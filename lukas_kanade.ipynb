{
  "nbformat": 4,
  "nbformat_minor": 0,
  "metadata": {
    "colab": {
      "provenance": []
    },
    "kernelspec": {
      "name": "python3",
      "display_name": "Python 3"
    },
    "language_info": {
      "name": "python"
    }
  },
  "cells": [
    {
      "cell_type": "code",
      "source": [
        "import cv2\n",
        "import copy\n",
        "import numpy as np\n",
        "import matplotlib.pyplot as plt\n",
        "import matplotlib.patches as patches"
      ],
      "metadata": {
        "id": "p1OzfGC-FnQ4"
      },
      "execution_count": 1,
      "outputs": []
    },
    {
      "cell_type": "code",
      "source": [
        "from google.colab import drive\n",
        "drive.mount('/content/drive')"
      ],
      "metadata": {
        "colab": {
          "base_uri": "https://localhost:8080/"
        },
        "id": "RAK89VuuKj89",
        "outputId": "dccf4ed0-4cc1-4f02-94ba-4a191b681987"
      },
      "execution_count": 2,
      "outputs": [
        {
          "output_type": "stream",
          "name": "stdout",
          "text": [
            "Mounted at /content/drive\n"
          ]
        }
      ]
    },
    {
      "cell_type": "code",
      "source": [
        "def crop(img, roi):\n",
        "    return img[roi[0][1]:roi[1][1], roi[0][0]:roi[1][0]]\n",
        "\n",
        "def warp_matrix(P):\n",
        "  W = np.array([[1 + P[0, 0], P[2, 0], P[4, 0]],\n",
        "                [P[1, 0], 1 + P[3, 0], P[5, 0]] ])\n",
        "                # [0, 0, 1]])\n",
        "  return W\n",
        "\n",
        "def get_dw_dp(X):\n",
        "  return np.array([[X[0], 0, X[1], 0, 1, 0],\n",
        "                  [0, X[0], 0, X[1], 0, 1]])"
      ],
      "metadata": {
        "id": "81lRtqvRE0gM"
      },
      "execution_count": 3,
      "outputs": []
    },
    {
      "cell_type": "code",
      "source": [
        "frames_of_car_video = np.load(\"/content/drive/MyDrive/ass/car2.npy\")\n",
        "frames_of_plane_video = np.load(\"/content/drive/MyDrive/ass/Copy of landing.npy\")"
      ],
      "metadata": {
        "id": "l91GDleAFoTt"
      },
      "execution_count": 4,
      "outputs": []
    },
    {
      "cell_type": "code",
      "source": [
        "frames_of_car_video.shape"
      ],
      "metadata": {
        "colab": {
          "base_uri": "https://localhost:8080/"
        },
        "id": "cvmsyBO9K93a",
        "outputId": "05b1f525-3722-464e-b31f-88582ef642dc"
      },
      "execution_count": 5,
      "outputs": [
        {
          "output_type": "execute_result",
          "data": {
            "text/plain": [
              "(240, 320, 415)"
            ]
          },
          "metadata": {},
          "execution_count": 5
        }
      ]
    },
    {
      "cell_type": "code",
      "source": [
        "bbox = [50, 110, (155 - 50), (162 - 110)]\n",
        "template = crop(frames_of_car_video[:,:,0], [[50, 110], [155, 162]]) / 255.0\n",
        "I0 = frames_of_car_video[:,:,1] / 255.0\n",
        "\n",
        "# template2 = frames_of_plane_video[:, :, 50]"
      ],
      "metadata": {
        "id": "ZAunXzzoOR44"
      },
      "execution_count": 6,
      "outputs": []
    },
    {
      "cell_type": "code",
      "source": [
        "plt.imshow(template, cmap='gray');"
      ],
      "metadata": {
        "colab": {
          "base_uri": "https://localhost:8080/",
          "height": 309
        },
        "id": "bn8yKj4sMwh-",
        "outputId": "513f3789-645a-42f4-a347-6057e3ee72d6"
      },
      "execution_count": 7,
      "outputs": [
        {
          "output_type": "display_data",
          "data": {
            "text/plain": [
              "<Figure size 640x480 with 1 Axes>"
            ],
            "image/png": "[encoded data removed]"
          },
          "metadata": {}
        }
      ]
    },
    {
      "cell_type": "code",
      "source": [
        "template.shape[0] * template.shape[1]"
      ],
      "metadata": {
        "colab": {
          "base_uri": "https://localhost:8080/"
        },
        "id": "-oFzdG-OT_Gz",
        "outputId": "500840bc-97d4-44f5-d47c-dd49abf545b6"
      },
      "execution_count": 8,
      "outputs": [
        {
          "output_type": "execute_result",
          "data": {
            "text/plain": [
              "5460"
            ]
          },
          "metadata": {},
          "execution_count": 8
        }
      ]
    },
    {
      "cell_type": "code",
      "source": [
        "def draw_bounding_boxes(img, bounding_boxes):\n",
        "  # Create figure and axes\n",
        "  fig, ax = plt.subplots(1)\n",
        "\n",
        "  # Display the image\n",
        "  ax.imshow(img, cmap='gray')\n",
        "\n",
        "  # Add bounding boxes to the image\n",
        "  x_min, y_min, x_max, y_max = bounding_boxes\n",
        "  rect = patches.Rectangle((x_min, y_min), x_max - x_min, y_max - y_min, linewidth=2, edgecolor='r', facecolor='none')\n",
        "  ax.add_patch(rect)\n",
        "\n",
        "  # Display the image\n",
        "  plt.show()"
      ],
      "metadata": {
        "id": "fzDKEuXPtrx_"
      },
      "execution_count": 9,
      "outputs": []
    },
    {
      "cell_type": "code",
      "source": [
        "def LK_tracker(I0, template, X, w, h, P, threshold=0.01, max_iter=100, warp_type=\"point\"):\n",
        "  iter, delta_p_norm = 0, np.inf\n",
        "  while (delta_p_norm > threshold) and (iter < max_iter):\n",
        "    iter += 1\n",
        "    W = warp_matrix(P)\n",
        "    if warp_type != \"point\":\n",
        "      warped_image = cv2.warpAffine(I0, W, (I0.shape[1], I0.shape[0]))\n",
        "    X_2 = np.array([X[0] + w, X[1] + h, 1])\n",
        "    X_1_prime = np.matmul(W, X).astype(int)\n",
        "    X_2_prime = np.matmul(W, X_2).astype(int)\n",
        "    if warp_type == \"point\":\n",
        "      I0_cropped = crop(I0, [X_1_prime, X_2_prime])\n",
        "    else:\n",
        "      I0_cropped = crop(warped_image, [X, X_2])\n",
        "    grad_x_T = cv2.Sobel(template, cv2.CV_64F, 1, 0, ksize=3).flatten()\n",
        "    grad_y_T = cv2.Sobel(template, cv2.CV_64F, 0, 1, ksize=3).flatten()\n",
        "    grad_x_I = cv2.Sobel(I0_cropped, cv2.CV_64F, 1, 0, ksize=3).flatten()\n",
        "    grad_y_I = cv2.Sobel(I0_cropped, cv2.CV_64F, 0, 1, ksize=3).flatten()\n",
        "    delta_T = np.stack((grad_x_T, grad_y_T), axis=1)\n",
        "    delta_I = np.stack((grad_x_I, grad_y_I), axis=1)\n",
        "    H = np.zeros((6, 6))\n",
        "    A = np.zeros((1, 6))\n",
        "    b = 0\n",
        "    template = template.flatten()\n",
        "    I0_cropped = I0_cropped.flatten()\n",
        "    for x in range(min(template.shape[0], I0_cropped.shape[0])):\n",
        "      dw_dp = get_dw_dp([x, 1])\n",
        "      H += np.matmul(np.matmul(delta_I[x], dw_dp).T, np.matmul(delta_I[x], dw_dp))\n",
        "      A += np.matmul(delta_I[x], dw_dp)\n",
        "      b += abs(template[x] - I0_cropped[x])\n",
        "    delta_p = np.linalg.pinv(H) @ A.T @ b.reshape(1, -1)\n",
        "    P = P + delta_p\n",
        "    delta_p_norm = np.linalg.norm(delta_p)\n",
        "  return P"
      ],
      "metadata": {
        "id": "Ku4us2ZmLH60"
      },
      "execution_count": 10,
      "outputs": []
    },
    {
      "cell_type": "markdown",
      "source": [
        "## Warping The Bounding Box"
      ],
      "metadata": {
        "id": "1xcHhSgU7Xva"
      }
    },
    {
      "cell_type": "code",
      "source": [
        "bbox = [50, 110, (155 - 50), (162 - 110)]\n",
        "template = crop(frames_of_car_video[:,:,0], [[50, 110], [155, 162]]) / 255.0\n",
        "\n",
        "P = np.zeros((6, 1))\n",
        "X = [50, 110, 1]\n",
        "X_orig = [50, 110, 1]\n",
        "w, h = 105, 52\n",
        "\n",
        "for i in range(1, frames_of_car_video.shape[-1]):\n",
        "  image = frames_of_car_video[:, :, i] / 255.0\n",
        "  image_copy = copy.deepcopy(image)\n",
        "  template_copy = copy.deepcopy(template)\n",
        "  P = LK_tracker(image_copy, template_copy, X_orig, w, h, P, threshold=0.01, warp_type=\"point\")\n",
        "  W = warp_matrix(P)\n",
        "  X = np.matmul(W, X_orig).astype(int)\n",
        "  print(f\"Frame No: {i} - {X}\")\n",
        "  draw_bounding_boxes(image, [X[0], X[1], X[0] + w, X[1] + h])"
      ],
      "metadata": {
        "id": "uGsHZnfHqABy"
      },
      "execution_count": null,
      "outputs": []
    },
    {
      "cell_type": "markdown",
      "source": [
        "## Warping The Image"
      ],
      "metadata": {
        "id": "EKo_eO0v7lGW"
      }
    },
    {
      "cell_type": "code",
      "source": [
        "bbox = [50, 110, (155 - 50), (162 - 110)]\n",
        "template = crop(frames_of_car_video[:,:,0], [[50, 110], [155, 162]]) / 255.0\n",
        "\n",
        "P = np.zeros((6, 1))\n",
        "X = [50, 110, 1]\n",
        "X_orig = [50, 110, 1]\n",
        "w, h = 105, 52\n",
        "\n",
        "for i in range(1, frames_of_car_video.shape[-1]):\n",
        "  image = frames_of_car_video[:, :, i] / 255.0\n",
        "  image_copy = copy.deepcopy(image)\n",
        "  template_copy = copy.deepcopy(template)\n",
        "  P = LK_tracker(image_copy, template_copy, X_orig, w, h, P, threshold=0.01, warp_type=\"img\")\n",
        "  W = warp_matrix(P)\n",
        "  warped_image = cv2.warpAffine(image, W, (image.shape[1], image.shape[0]))\n",
        "  print(f\"Frame No: {i} - {X}\")\n",
        "  draw_bounding_boxes(warped_image, [X[0], X[1], X[0] + w, X[1] + h])"
      ],
      "metadata": {
        "id": "tnuhOTDCuD1r"
      },
      "execution_count": null,
      "outputs": []
    },
    {
      "cell_type": "markdown",
      "source": [
        "## Same Implementation Of Lukas Kanade Tracker But With Full Matrices"
      ],
      "metadata": {
        "id": "JXvU-Rkh74xw"
      }
    },
    {
      "cell_type": "code",
      "source": [
        "def LK_tracker_full_shape(I0, template, X, w, h, P, threshold=0.01):\n",
        "  delta_p_norm = np.inf\n",
        "  while delta_p_norm > threshold:\n",
        "    W = warp_matrix(P)\n",
        "    X_2 = np.array([X[0] + w, X[1] + h, 1])\n",
        "    X_1_prime = np.matmul(W, X).astype(int)\n",
        "    X_2_prime = np.matmul(W, X_2).astype(int)\n",
        "    I0_cropped = I0\n",
        "    grad_x_T = cv2.Sobel(template, cv2.CV_64F, 1, 0, ksize=3)\n",
        "    grad_y_T = cv2.Sobel(template, cv2.CV_64F, 0, 1, ksize=3)\n",
        "    grad_x_I = cv2.Sobel(I0_cropped, cv2.CV_64F, 1, 0, ksize=3)\n",
        "    grad_y_I = cv2.Sobel(I0_cropped, cv2.CV_64F, 0, 1, ksize=3)\n",
        "    delta_T = np.stack((grad_x_T, grad_y_T), axis=2)\n",
        "    delta_I = np.stack((grad_x_I, grad_y_I), axis=2)\n",
        "    H = np.zeros((6, 6))\n",
        "    A = np.zeros((1, 6))\n",
        "    b = 0\n",
        "    for y in range(X[1] + h):\n",
        "      for x in range(X[0] + w):\n",
        "        x_temp = np.matmul(W, [x, y, 1]).astype(int)\n",
        "        if (0 < x_temp[0] < I0.shape[1]) and (0 < x_temp[1] < I0.shape[0]):\n",
        "          dw_dp = get_dw_dp([x, y])\n",
        "          H += np.matmul(np.matmul(delta_I[x, y], dw_dp).T, np.matmul(delta_I[x, y], dw_dp))\n",
        "          A += np.matmul(delta_I[x, y], dw_dp)\n",
        "          b += np.array(template[x, y] - I0[x_temp[0], x_temp[1]])\n",
        "    delta_p = np.linalg.pinv(H) @ A.T @ b.reshape(1, -1)\n",
        "    P = P + delta_p\n",
        "    delta_p_norm = np.linalg.norm(delta_p)\n",
        "  return P"
      ],
      "metadata": {
        "id": "mGllPr7OqZza"
      },
      "execution_count": 15,
      "outputs": []
    },
    {
      "cell_type": "code",
      "source": [],
      "metadata": {
        "id": "baLTxwWlrx9M"
      },
      "execution_count": null,
      "outputs": []
    }
  ]
}